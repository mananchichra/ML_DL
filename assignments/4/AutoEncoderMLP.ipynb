{
  "nbformat": 4,
  "nbformat_minor": 0,
  "metadata": {
    "colab": {
      "provenance": [],
      "authorship_tag": "ABX9TyPspPxODAqFX0XX0cRKpxAM",
      "include_colab_link": true
    },
    "kernelspec": {
      "name": "python3",
      "display_name": "Python 3"
    },
    "language_info": {
      "name": "python"
    }
  },
  "cells": [
    {
      "cell_type": "markdown",
      "metadata": {
        "id": "view-in-github",
        "colab_type": "text"
      },
      "source": [
        "<a href=\"https://colab.research.google.com/github/mananchichra/Image_classification/blob/main/mlpAutoencoder.ipynb\" target=\"_parent\"><img src=\"https://colab.research.google.com/assets/colab-badge.svg\" alt=\"Open In Colab\"/></a>"
      ]
    },
    {
      "cell_type": "code",
      "execution_count": null,
      "metadata": {
        "id": "oX1lpoH3vbcg"
      },
      "outputs": [],
      "source": [
        "import torch\n",
        "import torch.nn as nn\n",
        "import torch.optim as optim\n",
        "from torchvision import datasets, transforms\n",
        "from torch.utils.data import DataLoader, random_split\n",
        "import matplotlib.pyplot as plt\n",
        "import numpy as np\n",
        "import pandas as pd\n",
        "from sklearn.model_selection import train_test_split\n",
        "from PIL import Image\n",
        "from torch.utils.data import Dataset"
      ]
    },
    {
      "cell_type": "code",
      "source": [
        "# Data transformations (normalization)\n",
        "transform = transforms.Compose([\n",
        "    transforms.ToTensor(),\n",
        "    transforms.Normalize((0.5,), (0.5,))\n",
        "])\n",
        "\n",
        "\n",
        "data = pd.read_csv('/content/fashion-mnist_train.csv')\n",
        "class FashionMNISTDataset(Dataset):\n",
        "    def __init__(self, data, transform=None):\n",
        "        self.data = data\n",
        "        self.transform = transform\n",
        "\n",
        "    def __len__(self):\n",
        "        return len(self.data)\n",
        "\n",
        "    def __getitem__(self, idx):\n",
        "        # Separate the label from the pixel values\n",
        "        label = self.data.iloc[idx, 0]\n",
        "        image_array = self.data.iloc[idx, 1:].values.astype(np.uint8).reshape(28, 28)\n",
        "        image = Image.fromarray(image_array, mode='L')\n",
        "\n",
        "        if self.transform:\n",
        "            image = self.transform(image)\n",
        "\n",
        "        return image, label\n",
        "\n",
        "dataset = FashionMNISTDataset(data, transform=transform)\n",
        "\n",
        "train_data, temp_data = train_test_split(dataset, test_size=0.3, random_state=42)\n",
        "val_data, test_data = train_test_split(temp_data, test_size=2/3, random_state=42)\n",
        "\n",
        "train_loader = DataLoader(train_data, batch_size=64, shuffle=True)\n",
        "val_loader = DataLoader(val_data, batch_size=64, shuffle=False)\n",
        "test_loader = DataLoader(test_data, batch_size=64, shuffle=False)"
      ],
      "metadata": {
        "colab": {
          "base_uri": "https://localhost:8080/"
        },
        "id": "xwoGuuL0vqyY",
        "outputId": "1fbd8605-3f4a-4ef5-d3ef-d4a687cc3706"
      },
      "execution_count": null,
      "outputs": [
        {
          "output_type": "stream",
          "name": "stderr",
          "text": [
            "<ipython-input-2-3f5e8ff44a2e>:29: RuntimeWarning: invalid value encountered in cast\n",
            "  image_array = self.data.iloc[idx, 1:].values.astype(np.uint8).reshape(28, 28)\n"
          ]
        }
      ]
    },
    {
      "cell_type": "code",
      "source": [
        "\n",
        "class MLP_Autoencoder(nn.Module):\n",
        "    def __init__(self, input_size=784, hidden_dims=[256, 128], latent_dim=32):\n",
        "        super(MLP_Autoencoder, self).__init__()\n",
        "\n",
        "        # Encoder\n",
        "        encoder_layers = []\n",
        "        in_dim = input_size\n",
        "        for h_dim in hidden_dims:\n",
        "            encoder_layers.append(nn.Linear(in_dim, h_dim))\n",
        "            encoder_layers.append(nn.ReLU())\n",
        "            in_dim = h_dim\n",
        "        encoder_layers.append(nn.Linear(hidden_dims[-1], latent_dim))\n",
        "        encoder_layers.append(nn.ReLU())\n",
        "\n",
        "        self.encoder = nn.Sequential(*encoder_layers)\n",
        "\n",
        "        # Decoder\n",
        "        decoder_layers = []\n",
        "        in_dim = latent_dim\n",
        "        for h_dim in reversed(hidden_dims):\n",
        "            decoder_layers.append(nn.Linear(in_dim, h_dim))\n",
        "            decoder_layers.append(nn.ReLU())\n",
        "            in_dim = h_dim\n",
        "        decoder_layers.append(nn.Linear(hidden_dims[0], input_size))\n",
        "        decoder_layers.append(nn.Sigmoid())  # to match the pixel range of (0, 1)\n",
        "\n",
        "        self.decoder = nn.Sequential(*decoder_layers)\n",
        "\n",
        "    def forward(self, x):\n",
        "        x = x.view(-1, 784)  # Flatten the images\n",
        "        latent = self.encoder(x)\n",
        "        reconstructed = self.decoder(latent)\n",
        "        return reconstructed, latent\n",
        "\n",
        "class MLP_Classifier(nn.Module):\n",
        "    def __init__(self, input_dim=32, hidden_dims=[128, 64], output_dim=10):\n",
        "        super(MLP_Classifier, self).__init__()\n",
        "\n",
        "        classifier_layers = []\n",
        "        in_dim = input_dim\n",
        "        for h_dim in hidden_dims:\n",
        "            classifier_layers.append(nn.Linear(in_dim, h_dim))\n",
        "            classifier_layers.append(nn.ReLU())\n",
        "            in_dim = h_dim\n",
        "        classifier_layers.append(nn.Linear(hidden_dims[-1], output_dim))\n",
        "\n",
        "        self.classifier = nn.Sequential(*classifier_layers)\n",
        "\n",
        "    def forward(self, x):\n",
        "        return self.classifier(x)\n"
      ],
      "metadata": {
        "id": "dgWV4zA6-xCA"
      },
      "execution_count": null,
      "outputs": []
    },
    {
      "cell_type": "code",
      "source": [
        "def train_autoencoder(model, data_loader, criterion, optimizer, epochs=10):\n",
        "    model.train()\n",
        "    for epoch in range(epochs):\n",
        "        total_loss = 0\n",
        "        for images, _ in data_loader:\n",
        "            images = images.to(device)\n",
        "            optimizer.zero_grad()\n",
        "\n",
        "            # Forward pass\n",
        "            reconstructed, _ = model(images)\n",
        "            loss = criterion(reconstructed, images.view(-1, 784))\n",
        "\n",
        "            # Backward and optimize\n",
        "            loss.backward()\n",
        "            optimizer.step()\n",
        "\n",
        "            total_loss += loss.item()\n",
        "\n",
        "        avg_loss = total_loss / len(data_loader)\n",
        "        print(f\"Epoch [{epoch+1}/{epochs}], Loss: {avg_loss:.4f}\")\n"
      ],
      "metadata": {
        "id": "aff-PlcQvzlB"
      },
      "execution_count": null,
      "outputs": []
    },
    {
      "cell_type": "code",
      "source": [
        "def train_classifier(model, encoder, train_loader, criterion, optimizer, epochs=10):\n",
        "    model.train()\n",
        "    encoder.eval()  # Freeze the autoencoder's encoder during classifier training\n",
        "    for epoch in range(epochs):\n",
        "        total_loss = 0\n",
        "        for images, labels in train_loader:\n",
        "            images, labels = images.to(device), labels.to(device)\n",
        "            optimizer.zero_grad()\n",
        "\n",
        "            images = images.view(-1, 784)\n",
        "            # Forward pass through the encoder, then classifier\n",
        "            latent = encoder(images)\n",
        "            outputs = model(latent)\n",
        "            loss = criterion(outputs, labels)\n",
        "\n",
        "            # Backward and optimize\n",
        "            loss.backward()\n",
        "            optimizer.step()\n",
        "\n",
        "            total_loss += loss.item()\n",
        "\n",
        "        avg_loss = total_loss / len(train_loader)\n",
        "        print(f\"Epoch [{epoch+1}/{epochs}], Loss: {avg_loss:.4f}\")\n"
      ],
      "metadata": {
        "id": "FLaLcPq5v4Bd"
      },
      "execution_count": null,
      "outputs": []
    },
    {
      "cell_type": "code",
      "source": [
        "def evaluate(model, encoder, data_loader):\n",
        "    model.eval()\n",
        "    encoder.eval()\n",
        "    correct, total = 0, 0\n",
        "    with torch.no_grad():\n",
        "        for images, labels in data_loader:\n",
        "            images, labels = images.to(device), labels.to(device)\n",
        "\n",
        "            images = images.view(-1, 784)\n",
        "            # Forward pass through the encoder, then classifier\n",
        "            latent = encoder(images)\n",
        "            outputs = model(latent)\n",
        "            _, predicted = torch.max(outputs, 1)\n",
        "            total += labels.size(0)\n",
        "            correct += (predicted == labels).sum().item()\n",
        "\n",
        "    accuracy = 100 * correct / total\n",
        "    print(f'Accuracy: {accuracy:.2f}%')\n"
      ],
      "metadata": {
        "id": "WWFBE8EYv6m3"
      },
      "execution_count": null,
      "outputs": []
    },
    {
      "cell_type": "code",
      "source": [
        "# Hyperparameters\n",
        "input_size = 784\n",
        "hidden_dim1 = [256,128]\n",
        "hidden_dim2 = [128,64]\n",
        "latent_dim = 32\n",
        "output_dim = 10\n",
        "epochs = 20\n",
        "\n",
        "# Define device\n",
        "device = torch.device(\"cuda\" if torch.cuda.is_available() else \"cpu\")\n",
        "\n",
        "# Instantiate models\n",
        "autoencoder = MLP_Autoencoder(input_size=input_size, hidden_dims=hidden_dim1, latent_dim=latent_dim).to(device)\n",
        "print(latent_dim)\n",
        "classifier = MLP_Classifier(input_dim=latent_dim, hidden_dims=hidden_dim2, output_dim=output_dim).to(device)\n",
        "\n",
        "# Loss and optimizers\n",
        "criterion_autoencoder = nn.MSELoss()\n",
        "optimizer_autoencoder = optim.Adam(autoencoder.parameters(), lr=0.001)\n",
        "\n",
        "criterion_classifier = nn.CrossEntropyLoss()\n",
        "optimizer_classifier = optim.Adam(classifier.parameters(), lr=0.001)\n",
        "\n",
        "# Train the autoencoder\n",
        "print(\"Training Autoencoder...\")\n",
        "train_autoencoder(autoencoder, train_loader, criterion_autoencoder, optimizer_autoencoder, epochs=epochs)\n",
        "\n",
        "# Train the classifier\n",
        "print(\"Training Classifier...\")\n",
        "train_classifier(classifier, autoencoder.encoder, train_loader, criterion_classifier, optimizer_classifier, epochs=epochs)\n",
        "\n",
        "# Evaluate the classifier\n",
        "print(\"Evaluating Classifier...\")\n",
        "evaluate(classifier, autoencoder.encoder, test_loader)\n"
      ],
      "metadata": {
        "colab": {
          "base_uri": "https://localhost:8080/"
        },
        "id": "KSU__qFjv9s9",
        "outputId": "c539f5c0-a4e0-4880-ce0e-61416730ca86"
      },
      "execution_count": null,
      "outputs": [
        {
          "output_type": "stream",
          "name": "stdout",
          "text": [
            "32\n",
            "Training Autoencoder...\n",
            "Epoch [1/20], Loss: 0.6843\n",
            "Epoch [2/20], Loss: 0.6234\n",
            "Epoch [3/20], Loss: 0.6144\n",
            "Epoch [4/20], Loss: 0.6090\n",
            "Epoch [5/20], Loss: 0.6063\n",
            "Epoch [6/20], Loss: 0.6044\n",
            "Epoch [7/20], Loss: 0.6027\n",
            "Epoch [8/20], Loss: 0.6014\n",
            "Epoch [9/20], Loss: 0.6004\n",
            "Epoch [10/20], Loss: 0.5995\n",
            "Epoch [11/20], Loss: 0.5988\n",
            "Epoch [12/20], Loss: 0.5981\n",
            "Epoch [13/20], Loss: 0.5975\n",
            "Epoch [14/20], Loss: 0.5969\n",
            "Epoch [15/20], Loss: 0.5965\n",
            "Epoch [16/20], Loss: 0.5960\n",
            "Epoch [17/20], Loss: 0.5956\n",
            "Epoch [18/20], Loss: 0.5951\n",
            "Epoch [19/20], Loss: 0.5948\n",
            "Epoch [20/20], Loss: 0.5945\n",
            "Training Classifier...\n",
            "Epoch [1/20], Loss: 0.9297\n",
            "Epoch [2/20], Loss: 0.6415\n",
            "Epoch [3/20], Loss: 0.5962\n",
            "Epoch [4/20], Loss: 0.5688\n",
            "Epoch [5/20], Loss: 0.5567\n",
            "Epoch [6/20], Loss: 0.5447\n",
            "Epoch [7/20], Loss: 0.5363\n",
            "Epoch [8/20], Loss: 0.5278\n",
            "Epoch [9/20], Loss: 0.5152\n",
            "Epoch [10/20], Loss: 0.5107\n",
            "Epoch [11/20], Loss: 0.4992\n",
            "Epoch [12/20], Loss: 0.4977\n",
            "Epoch [13/20], Loss: 0.4876\n",
            "Epoch [14/20], Loss: 0.4853\n",
            "Epoch [15/20], Loss: 0.4782\n",
            "Epoch [16/20], Loss: 0.4726\n",
            "Epoch [17/20], Loss: 0.4724\n",
            "Epoch [18/20], Loss: 0.4657\n",
            "Epoch [19/20], Loss: 0.4569\n",
            "Epoch [20/20], Loss: 0.4555\n",
            "Evaluating Classifier...\n",
            "Accuracy: 81.74%\n"
          ]
        }
      ]
    },
    {
      "cell_type": "code",
      "source": [
        "def visualize_reconstructions(model, data_loader):\n",
        "    model.eval()\n",
        "    with torch.no_grad():\n",
        "        images, _ = next(iter(data_loader))\n",
        "        images = images.to(device)\n",
        "        reconstructed, _ = model(images)\n",
        "\n",
        "        # Plot original and reconstructed images\n",
        "        fig, axes = plt.subplots(2, 10, figsize=(15, 3))\n",
        "        for i in range(10):\n",
        "            axes[0, i].imshow(images[i].cpu().squeeze(), cmap=\"gray\")\n",
        "            axes[1, i].imshow(reconstructed[i].cpu().view(28, 28), cmap=\"gray\")\n",
        "            axes[0, i].axis(\"off\")\n",
        "            axes[1, i].axis(\"off\")\n",
        "        plt.show()\n",
        "\n",
        "# Visualize reconstructions\n",
        "visualize_reconstructions(autoencoder, test_loader)\n"
      ],
      "metadata": {
        "colab": {
          "base_uri": "https://localhost:8080/",
          "height": 261
        },
        "id": "BbhjwvwCwAes",
        "outputId": "ef3424d4-cccb-4b68-b5f7-b9bcd8ac9b40"
      },
      "execution_count": null,
      "outputs": [
        {
          "output_type": "display_data",
          "data": {
            "text/plain": [
              "<Figure size 1500x300 with 20 Axes>"
            ],
            "image/png": "[encoded data removed]"
          },
          "metadata": {}
        }
      ]
    },
    {
      "cell_type": "markdown",
      "source": [
        "## Architecture\n",
        "- **CnnAutoencoder:**\n",
        "Uses convolutional layers in the encoder to capture spatial features and patterns.\n",
        "The decoder often mirrors the encoder using deconvolution (transposed convolution) layers.\n",
        "Preserves local spatial relationships, focusing on capturing image shapes and textures.\n",
        "- **MlpAutoencoder:**\n",
        "Consists of fully connected (dense) layers for both encoder and decoder.\n",
        "Treats the image as a flat vector, losing the natural spatial structure of the image.\n",
        "Primarily focuses on global feature extraction rather than localized spatial relationships.\n",
        "\n",
        "##  Reconstruction Quality\n",
        "- **CnnAutoencoder:**\n",
        "\n",
        "  *Clearer Shapes:* Preserves shapes due to its localized spatial learning.  \n",
        "  *Sharper Details:* Better at texture and pattern reconstruction.\n",
        "- **MlpAutoencoder:**\n",
        "\n",
        "  *Distinct Borders and Outlines:* Captures edge and boundary information more distinctly\n",
        "\n",
        "  *Blurry Inner Details:* Lost some intricate inner details within large regions of the image because it doesn't maintain spatial hierarchies."
      ],
      "metadata": {
        "id": "eBHeoXylT7gy"
      }
    }
  ]
}